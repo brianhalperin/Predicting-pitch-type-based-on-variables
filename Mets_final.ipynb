{
 "cells": [
  {
   "cell_type": "markdown",
   "metadata": {},
   "source": [
    "# Building a prediction model for pitch type based on statistical variables."
   ]
  },
  {
   "cell_type": "markdown",
   "metadata": {},
   "source": [
    "I want to determine what the type of each pitch was during the game based on the pitching statistics provided. I will be using a decison tree to build this prediction model"
   ]
  },
  {
   "cell_type": "markdown",
   "metadata": {},
   "source": [
    "First, let's load up the packages we will be using."
   ]
  },
  {
   "cell_type": "code",
   "execution_count": 1,
   "metadata": {
    "collapsed": true
   },
   "outputs": [],
   "source": [
    "import pandas as pd\n",
    "import numpy as np\n",
    "import seaborn as sns\n",
    "from pandas import DataFrame\n",
    "from scipy import stats\n",
    "%matplotlib inline\n",
    "import warnings\n",
    "warnings.filterwarnings('ignore')\n",
    "sns.set_context(\"notebook\")  # make figures fit\n",
    "from pylab import rcParams\n",
    "import matplotlib.pyplot as plt\n",
    "plt.rcParams.update({'font.size': 19})\n",
    "sns.set(font_scale=1.5)\n",
    "plt.rcParams['figure.figsize'] = 7,4\n",
    "from statsmodels.graphics.mosaicplot import mosaic\n",
    "exec(open('useful.py').read())\n",
    "\n",
    "# make the Pandas tables a little more readable\n",
    "\n",
    "from IPython.core.display import HTML\n",
    "css = open('style-table.css').read() + open('style-notebook.css').read()\n",
    "HTML('<style>{}</style>'.format(css))\n"
   ]
  },
  {
   "cell_type": "markdown",
   "metadata": {},
   "source": [
    "Now let's load the data."
   ]
  },
  {
   "cell_type": "code",
   "execution_count": 42,
   "metadata": {
    "collapsed": false
   },
   "outputs": [
    {
     "data": {
      "text/plain": [
       "(296, 33)"
      ]
     },
     "execution_count": 42,
     "metadata": {},
     "output_type": "execute_result"
    }
   ],
   "source": [
    "game_data = pd.read_csv(\"20170817.csv\")\n",
    "game_data.shape"
   ]
  },
  {
   "cell_type": "markdown",
   "metadata": {},
   "source": [
    "We are given 296 rows and 33 columns that represent 296 pitches and the various statistics that happened on that pitch. If we want to determine what type of pitch a ball is, we need to think about which statistics might be important. Let's take a look at our columns."
   ]
  },
  {
   "cell_type": "code",
   "execution_count": 43,
   "metadata": {
    "collapsed": false
   },
   "outputs": [
    {
     "data": {
      "text/plain": [
       "Index(['pitchid', 'inning', 'inning_half', 'pitcher', 'throws', 'batter',\n",
       "       'batside', 'catcher', 'bat_score', 'field_score', 'balls', 'strikes',\n",
       "       'outs_before', 'outs_after', 'pitch_type', 'rel_speed', 'rel_height',\n",
       "       'rel_side', 'induced_vert_break', 'horz_break', 'zone_speed',\n",
       "       'spin_rate', 'spin_axis', 'plate_loc_x', 'plate_loc_z', 'sz_top',\n",
       "       'sz_bot', 'pitch_call', 'event_type', 'event_description',\n",
       "       'exit_velocity', 'launch_angle', 'hit_direction'],\n",
       "      dtype='object')"
      ]
     },
     "execution_count": 43,
     "metadata": {},
     "output_type": "execute_result"
    }
   ],
   "source": [
    "game_data.columns"
   ]
  },
  {
   "cell_type": "markdown",
   "metadata": {},
   "source": [
    "The speed of a pitch and the break would seem like very likely features for our training data. These fields are \"rel_speed\", \"induced_vert_break\", and \"horz_break\". Another key aspect would be spin. \"Spin_axis\" and \"spin_rate\" will be our last two features. Now that we know the data we are going to be working with, let's reduce our DataFrame down to the information we need."
   ]
  },
  {
   "cell_type": "code",
   "execution_count": 44,
   "metadata": {
    "collapsed": false
   },
   "outputs": [
    {
     "data": {
      "text/html": [
       "<div>\n",
       "<table border=\"1\" class=\"dataframe\">\n",
       "  <thead>\n",
       "    <tr style=\"text-align: right;\">\n",
       "      <th></th>\n",
       "      <th>pitch_type</th>\n",
       "      <th>horz_break</th>\n",
       "      <th>induced_vert_break</th>\n",
       "      <th>spin_rate</th>\n",
       "      <th>spin_axis</th>\n",
       "      <th>rel_speed</th>\n",
       "    </tr>\n",
       "  </thead>\n",
       "  <tbody>\n",
       "    <tr>\n",
       "      <th>0</th>\n",
       "      <td>FF</td>\n",
       "      <td>-7.41986</td>\n",
       "      <td>9.66393</td>\n",
       "      <td>2026.10</td>\n",
       "      <td>138.574</td>\n",
       "      <td>93.6440</td>\n",
       "    </tr>\n",
       "    <tr>\n",
       "      <th>1</th>\n",
       "      <td>FF</td>\n",
       "      <td>-7.03180</td>\n",
       "      <td>11.09360</td>\n",
       "      <td>1989.39</td>\n",
       "      <td>144.392</td>\n",
       "      <td>93.9607</td>\n",
       "    </tr>\n",
       "    <tr>\n",
       "      <th>2</th>\n",
       "      <td>FF</td>\n",
       "      <td>-9.73929</td>\n",
       "      <td>9.92929</td>\n",
       "      <td>2062.76</td>\n",
       "      <td>131.440</td>\n",
       "      <td>94.2005</td>\n",
       "    </tr>\n",
       "    <tr>\n",
       "      <th>3</th>\n",
       "      <td>FF</td>\n",
       "      <td>-10.38880</td>\n",
       "      <td>10.73850</td>\n",
       "      <td>1916.24</td>\n",
       "      <td>132.372</td>\n",
       "      <td>93.6269</td>\n",
       "    </tr>\n",
       "    <tr>\n",
       "      <th>4</th>\n",
       "      <td>FF</td>\n",
       "      <td>-15.36990</td>\n",
       "      <td>10.48860</td>\n",
       "      <td>1925.18</td>\n",
       "      <td>120.871</td>\n",
       "      <td>94.0730</td>\n",
       "    </tr>\n",
       "  </tbody>\n",
       "</table>\n",
       "</div>"
      ],
      "text/plain": [
       "  pitch_type  horz_break  induced_vert_break  spin_rate  spin_axis  rel_speed\n",
       "0         FF    -7.41986             9.66393    2026.10    138.574    93.6440\n",
       "1         FF    -7.03180            11.09360    1989.39    144.392    93.9607\n",
       "2         FF    -9.73929             9.92929    2062.76    131.440    94.2005\n",
       "3         FF   -10.38880            10.73850    1916.24    132.372    93.6269\n",
       "4         FF   -15.36990            10.48860    1925.18    120.871    94.0730"
      ]
     },
     "execution_count": 44,
     "metadata": {},
     "output_type": "execute_result"
    }
   ],
   "source": [
    "pitch_data = game_data[[\"pitch_type\",'horz_break','induced_vert_break','spin_rate'\n",
    "                        ,'spin_axis','rel_speed']]\n",
    "pitch_data.head()"
   ]
  },
  {
   "cell_type": "markdown",
   "metadata": {},
   "source": [
    "We can do some simple statistics on these types of pitches with the groupby method. For example, let's find the average stats of these pitches, the maximum, and the minimum."
   ]
  },
  {
   "cell_type": "code",
   "execution_count": 45,
   "metadata": {
    "collapsed": false
   },
   "outputs": [
    {
     "data": {
      "text/html": [
       "<div>\n",
       "<table border=\"1\" class=\"dataframe\">\n",
       "  <thead>\n",
       "    <tr style=\"text-align: right;\">\n",
       "      <th></th>\n",
       "      <th>horz_break</th>\n",
       "      <th>induced_vert_break</th>\n",
       "      <th>spin_rate</th>\n",
       "      <th>spin_axis</th>\n",
       "      <th>rel_speed</th>\n",
       "    </tr>\n",
       "    <tr>\n",
       "      <th>pitch_type</th>\n",
       "      <th></th>\n",
       "      <th></th>\n",
       "      <th></th>\n",
       "      <th></th>\n",
       "      <th></th>\n",
       "    </tr>\n",
       "  </thead>\n",
       "  <tbody>\n",
       "    <tr>\n",
       "      <th>CB</th>\n",
       "      <td>2.464201</td>\n",
       "      <td>-7.374823</td>\n",
       "      <td>2486.857632</td>\n",
       "      <td>197.376296</td>\n",
       "      <td>79.973189</td>\n",
       "    </tr>\n",
       "    <tr>\n",
       "      <th>CH</th>\n",
       "      <td>9.373023</td>\n",
       "      <td>7.984331</td>\n",
       "      <td>1762.692222</td>\n",
       "      <td>221.505637</td>\n",
       "      <td>85.502570</td>\n",
       "    </tr>\n",
       "    <tr>\n",
       "      <th>FC</th>\n",
       "      <td>3.208504</td>\n",
       "      <td>5.843544</td>\n",
       "      <td>2158.085000</td>\n",
       "      <td>215.903250</td>\n",
       "      <td>88.227762</td>\n",
       "    </tr>\n",
       "    <tr>\n",
       "      <th>FF</th>\n",
       "      <td>4.221474</td>\n",
       "      <td>13.493489</td>\n",
       "      <td>2263.438790</td>\n",
       "      <td>193.567624</td>\n",
       "      <td>95.169168</td>\n",
       "    </tr>\n",
       "    <tr>\n",
       "      <th>FS</th>\n",
       "      <td>-9.323395</td>\n",
       "      <td>6.350056</td>\n",
       "      <td>1494.237273</td>\n",
       "      <td>124.880000</td>\n",
       "      <td>84.381391</td>\n",
       "    </tr>\n",
       "    <tr>\n",
       "      <th>FT</th>\n",
       "      <td>15.471725</td>\n",
       "      <td>3.324565</td>\n",
       "      <td>2238.567500</td>\n",
       "      <td>262.535500</td>\n",
       "      <td>90.739925</td>\n",
       "    </tr>\n",
       "    <tr>\n",
       "      <th>SL</th>\n",
       "      <td>-1.864152</td>\n",
       "      <td>-1.231902</td>\n",
       "      <td>2167.117059</td>\n",
       "      <td>95.500563</td>\n",
       "      <td>87.664780</td>\n",
       "    </tr>\n",
       "  </tbody>\n",
       "</table>\n",
       "</div>"
      ],
      "text/plain": [
       "            horz_break  induced_vert_break    spin_rate   spin_axis  rel_speed\n",
       "pitch_type                                                                    \n",
       "CB            2.464201           -7.374823  2486.857632  197.376296  79.973189\n",
       "CH            9.373023            7.984331  1762.692222  221.505637  85.502570\n",
       "FC            3.208504            5.843544  2158.085000  215.903250  88.227762\n",
       "FF            4.221474           13.493489  2263.438790  193.567624  95.169168\n",
       "FS           -9.323395            6.350056  1494.237273  124.880000  84.381391\n",
       "FT           15.471725            3.324565  2238.567500  262.535500  90.739925\n",
       "SL           -1.864152           -1.231902  2167.117059   95.500563  87.664780"
      ]
     },
     "execution_count": 45,
     "metadata": {},
     "output_type": "execute_result"
    }
   ],
   "source": [
    "pitch_data.groupby(\"pitch_type\").mean()"
   ]
  },
  {
   "cell_type": "code",
   "execution_count": 46,
   "metadata": {
    "collapsed": false
   },
   "outputs": [
    {
     "data": {
      "text/html": [
       "<div>\n",
       "<table border=\"1\" class=\"dataframe\">\n",
       "  <thead>\n",
       "    <tr style=\"text-align: right;\">\n",
       "      <th></th>\n",
       "      <th>horz_break</th>\n",
       "      <th>induced_vert_break</th>\n",
       "      <th>spin_rate</th>\n",
       "      <th>spin_axis</th>\n",
       "      <th>rel_speed</th>\n",
       "    </tr>\n",
       "    <tr>\n",
       "      <th>pitch_type</th>\n",
       "      <th></th>\n",
       "      <th></th>\n",
       "      <th></th>\n",
       "      <th></th>\n",
       "      <th></th>\n",
       "    </tr>\n",
       "  </thead>\n",
       "  <tbody>\n",
       "    <tr>\n",
       "      <th>CB</th>\n",
       "      <td>-16.168300</td>\n",
       "      <td>-12.08590</td>\n",
       "      <td>2261.19</td>\n",
       "      <td>5.69615</td>\n",
       "      <td>77.7298</td>\n",
       "    </tr>\n",
       "    <tr>\n",
       "      <th>CH</th>\n",
       "      <td>-17.288500</td>\n",
       "      <td>-1.99262</td>\n",
       "      <td>1375.68</td>\n",
       "      <td>93.19520</td>\n",
       "      <td>81.2822</td>\n",
       "    </tr>\n",
       "    <tr>\n",
       "      <th>FC</th>\n",
       "      <td>0.888103</td>\n",
       "      <td>3.14690</td>\n",
       "      <td>1977.64</td>\n",
       "      <td>192.06800</td>\n",
       "      <td>86.0980</td>\n",
       "    </tr>\n",
       "    <tr>\n",
       "      <th>FF</th>\n",
       "      <td>-15.980700</td>\n",
       "      <td>2.66932</td>\n",
       "      <td>1795.58</td>\n",
       "      <td>108.72500</td>\n",
       "      <td>88.8870</td>\n",
       "    </tr>\n",
       "    <tr>\n",
       "      <th>FS</th>\n",
       "      <td>-16.791300</td>\n",
       "      <td>4.47608</td>\n",
       "      <td>1422.90</td>\n",
       "      <td>103.56600</td>\n",
       "      <td>83.2412</td>\n",
       "    </tr>\n",
       "    <tr>\n",
       "      <th>FT</th>\n",
       "      <td>14.348100</td>\n",
       "      <td>1.27632</td>\n",
       "      <td>2214.54</td>\n",
       "      <td>257.85000</td>\n",
       "      <td>90.2411</td>\n",
       "    </tr>\n",
       "    <tr>\n",
       "      <th>SL</th>\n",
       "      <td>-7.337980</td>\n",
       "      <td>-8.90306</td>\n",
       "      <td>0.00</td>\n",
       "      <td>7.09555</td>\n",
       "      <td>82.6189</td>\n",
       "    </tr>\n",
       "  </tbody>\n",
       "</table>\n",
       "</div>"
      ],
      "text/plain": [
       "            horz_break  induced_vert_break  spin_rate  spin_axis  rel_speed\n",
       "pitch_type                                                                 \n",
       "CB          -16.168300           -12.08590    2261.19    5.69615    77.7298\n",
       "CH          -17.288500            -1.99262    1375.68   93.19520    81.2822\n",
       "FC            0.888103             3.14690    1977.64  192.06800    86.0980\n",
       "FF          -15.980700             2.66932    1795.58  108.72500    88.8870\n",
       "FS          -16.791300             4.47608    1422.90  103.56600    83.2412\n",
       "FT           14.348100             1.27632    2214.54  257.85000    90.2411\n",
       "SL           -7.337980            -8.90306       0.00    7.09555    82.6189"
      ]
     },
     "execution_count": 46,
     "metadata": {},
     "output_type": "execute_result"
    }
   ],
   "source": [
    "pitch_data.groupby(\"pitch_type\").min()"
   ]
  },
  {
   "cell_type": "code",
   "execution_count": 47,
   "metadata": {
    "collapsed": false
   },
   "outputs": [
    {
     "data": {
      "text/html": [
       "<div>\n",
       "<table border=\"1\" class=\"dataframe\">\n",
       "  <thead>\n",
       "    <tr style=\"text-align: right;\">\n",
       "      <th></th>\n",
       "      <th>horz_break</th>\n",
       "      <th>induced_vert_break</th>\n",
       "      <th>spin_rate</th>\n",
       "      <th>spin_axis</th>\n",
       "      <th>rel_speed</th>\n",
       "    </tr>\n",
       "    <tr>\n",
       "      <th>pitch_type</th>\n",
       "      <th></th>\n",
       "      <th></th>\n",
       "      <th></th>\n",
       "      <th></th>\n",
       "      <th></th>\n",
       "    </tr>\n",
       "  </thead>\n",
       "  <tbody>\n",
       "    <tr>\n",
       "      <th>CB</th>\n",
       "      <td>15.77190</td>\n",
       "      <td>-1.61767</td>\n",
       "      <td>2901.12</td>\n",
       "      <td>333.708</td>\n",
       "      <td>86.9156</td>\n",
       "    </tr>\n",
       "    <tr>\n",
       "      <th>CH</th>\n",
       "      <td>20.04730</td>\n",
       "      <td>14.99300</td>\n",
       "      <td>2313.97</td>\n",
       "      <td>282.262</td>\n",
       "      <td>89.7858</td>\n",
       "    </tr>\n",
       "    <tr>\n",
       "      <th>FC</th>\n",
       "      <td>5.41397</td>\n",
       "      <td>8.52567</td>\n",
       "      <td>2399.82</td>\n",
       "      <td>237.004</td>\n",
       "      <td>91.9617</td>\n",
       "    </tr>\n",
       "    <tr>\n",
       "      <th>FF</th>\n",
       "      <td>19.82670</td>\n",
       "      <td>20.35360</td>\n",
       "      <td>2645.64</td>\n",
       "      <td>261.843</td>\n",
       "      <td>99.5715</td>\n",
       "    </tr>\n",
       "    <tr>\n",
       "      <th>FS</th>\n",
       "      <td>19.21780</td>\n",
       "      <td>9.18782</td>\n",
       "      <td>1615.99</td>\n",
       "      <td>255.177</td>\n",
       "      <td>87.4298</td>\n",
       "    </tr>\n",
       "    <tr>\n",
       "      <th>FT</th>\n",
       "      <td>17.13570</td>\n",
       "      <td>4.45343</td>\n",
       "      <td>2258.31</td>\n",
       "      <td>270.386</td>\n",
       "      <td>91.2182</td>\n",
       "    </tr>\n",
       "    <tr>\n",
       "      <th>SL</th>\n",
       "      <td>6.38973</td>\n",
       "      <td>7.76618</td>\n",
       "      <td>3019.61</td>\n",
       "      <td>347.886</td>\n",
       "      <td>92.2858</td>\n",
       "    </tr>\n",
       "  </tbody>\n",
       "</table>\n",
       "</div>"
      ],
      "text/plain": [
       "            horz_break  induced_vert_break  spin_rate  spin_axis  rel_speed\n",
       "pitch_type                                                                 \n",
       "CB            15.77190            -1.61767    2901.12    333.708    86.9156\n",
       "CH            20.04730            14.99300    2313.97    282.262    89.7858\n",
       "FC             5.41397             8.52567    2399.82    237.004    91.9617\n",
       "FF            19.82670            20.35360    2645.64    261.843    99.5715\n",
       "FS            19.21780             9.18782    1615.99    255.177    87.4298\n",
       "FT            17.13570             4.45343    2258.31    270.386    91.2182\n",
       "SL             6.38973             7.76618    3019.61    347.886    92.2858"
      ]
     },
     "execution_count": 47,
     "metadata": {},
     "output_type": "execute_result"
    }
   ],
   "source": [
    "pitch_data.groupby(\"pitch_type\").max()"
   ]
  },
  {
   "cell_type": "markdown",
   "metadata": {},
   "source": [
    "Let's import our SKLearn module and create our decision tree."
   ]
  },
  {
   "cell_type": "code",
   "execution_count": 58,
   "metadata": {
    "collapsed": false
   },
   "outputs": [],
   "source": [
    "from sklearn.cross_validation import train_test_split\n",
    "from sklearn.tree import DecisionTreeClassifier\n",
    "from sklearn.metrics import accuracy_score\n",
    "from sklearn import tree\n",
    "from sklearn.tree import DecisionTreeClassifier, export_graphviz\n",
    "\n"
   ]
  },
  {
   "cell_type": "markdown",
   "metadata": {},
   "source": [
    "Now let's divide our data into the feature set & the target set. The “X” set will consist of predictor variables. It consists of data from 2nd column to 6th column. The “Y” set will consist of the outcome variable. It consists of data in the 1st column. We are using “.values” of numpy converting our dataframes into numpy arrays.\n"
   ]
  },
  {
   "cell_type": "code",
   "execution_count": 49,
   "metadata": {
    "collapsed": false
   },
   "outputs": [],
   "source": [
    "X = pitch_data.values[:, 1:6]\n",
    "Y = pitch_data.values[:,0]"
   ]
  },
  {
   "cell_type": "markdown",
   "metadata": {},
   "source": [
    "Let’s split our data into training and test set. We will use sklearn’s train_test_split() method. We will split data into a training and a test set. X_train, y_train are training data &  X_test, y_test will belong to the test dataset.\n",
    "\n",
    "The parameter test_size is a given value 0.3, meaning it will be 30% of whole dataset  & training dataset’s size will be 70% of the entire dataset."
   ]
  },
  {
   "cell_type": "code",
   "execution_count": 51,
   "metadata": {
    "collapsed": true
   },
   "outputs": [],
   "source": [
    "X_train, X_test, y_train, y_test = train_test_split( X, Y, test_size = 0.3, random_state = 100)"
   ]
  },
  {
   "cell_type": "markdown",
   "metadata": {},
   "source": [
    "DecisionTreeClassifier(): is the classifier function for DecisionTree. It is the main function for implementing the algorithms. "
   ]
  },
  {
   "cell_type": "code",
   "execution_count": 56,
   "metadata": {
    "collapsed": false
   },
   "outputs": [
    {
     "data": {
      "text/plain": [
       "<bound method ClassifierMixin.score of DecisionTreeClassifier(class_weight=None, criterion='gini', max_depth=3,\n",
       "            max_features=None, max_leaf_nodes=None,\n",
       "            min_impurity_split=1e-07, min_samples_leaf=5,\n",
       "            min_samples_split=2, min_weight_fraction_leaf=0.0,\n",
       "            presort=False, random_state=100, splitter='best')>"
      ]
     },
     "execution_count": 56,
     "metadata": {},
     "output_type": "execute_result"
    }
   ],
   "source": [
    "\n",
    "clf_gini = DecisionTreeClassifier(criterion = \"gini\", random_state = 100,\n",
    "                                  max_depth=3, min_samples_leaf=5)\n",
    "clf_gini.fit(X_train, y_train)\n",
    "clf_gini.score\n"
   ]
  },
  {
   "cell_type": "markdown",
   "metadata": {},
   "source": [
    "Great. We've done it. We can now vizualize our decision tree. The code below will use a package called PyDotPlus to save a picture of the decision tree to my computer. We need to install it first."
   ]
  },
  {
   "cell_type": "code",
   "execution_count": 77,
   "metadata": {
    "collapsed": false
   },
   "outputs": [
    {
     "name": "stdout",
     "output_type": "stream",
     "text": [
      "Collecting pydotplus\n",
      "  Using cached pydotplus-2.0.2.tar.gz\n",
      "Requirement already satisfied: pyparsing>=2.0.1 in /anaconda/envs/si370/lib/python3.5/site-packages (from pydotplus)\n",
      "Building wheels for collected packages: pydotplus\n",
      "  Running setup.py bdist_wheel for pydotplus ... \u001b[?25l-\b \b\\\b \b|\b \bdone\n",
      "\u001b[?25h  Stored in directory: /Users/Brian/Library/Caches/pip/wheels/43/31/48/e1d60511537b50a8ec28b130566d2fbbe4ac302b0def4baa48\n",
      "Successfully built pydotplus\n",
      "Installing collected packages: pydotplus\n",
      "Successfully installed pydotplus-2.0.2\n",
      "\u001b[33mYou are using pip version 9.0.1, however version 9.0.2 is available.\n",
      "You should consider upgrading via the 'pip install --upgrade pip' command.\u001b[0m\n"
     ]
    }
   ],
   "source": [
    "import sys\n",
    "!{sys.executable} -m pip install pydotplus"
   ]
  },
  {
   "cell_type": "code",
   "execution_count": 79,
   "metadata": {
    "collapsed": false
   },
   "outputs": [
    {
     "data": {
      "text/plain": [
       "True"
      ]
     },
     "execution_count": 79,
     "metadata": {},
     "output_type": "execute_result"
    }
   ],
   "source": [
    "import pydotplus\n",
    "import collections\n",
    "names = ['Horz_Break','Induced_Vert_Break','Spin_Rate',\n",
    "         'Spin_Axis',\"Rel_Speed\"]\n",
    "# Visualize data\n",
    "dot_data = tree.export_graphviz(clf_gini,\n",
    "                                feature_names=names,\n",
    "                                out_file=None,\n",
    "                                filled=True,\n",
    "                                rounded=True)\n",
    "graph = pydotplus.graph_from_dot_data(dot_data)\n",
    "colors = ('turquoise', 'orange')\n",
    "edges = collections.defaultdict(list)\n",
    " \n",
    "for edge in graph.get_edge_list():\n",
    "    edges[edge.get_source()].append(int(edge.get_destination()))\n",
    " \n",
    "for edge in edges:\n",
    "    edges[edge].sort()    \n",
    "    for i in range(2):\n",
    "        dest = graph.get_node(str(edges[edge][i]))[0]\n",
    "        dest.set_fillcolor(colors[i])\n",
    " \n",
    "graph.write_png('tree.png')"
   ]
  },
  {
   "cell_type": "code",
   "execution_count": 81,
   "metadata": {
    "collapsed": false
   },
   "outputs": [
    {
     "data": {
      "text/html": [
       "<img src=\"tree.png\"/>"
      ],
      "text/plain": [
       "<IPython.core.display.Image object>"
      ]
     },
     "execution_count": 81,
     "metadata": {},
     "output_type": "execute_result"
    }
   ],
   "source": [
    "\n",
    "from IPython.display import Image\n",
    "from IPython.core.display import HTML \n",
    "Image(url= \"tree.png\")"
   ]
  },
  {
   "cell_type": "markdown",
   "metadata": {},
   "source": [
    "The tree above represents the logic our algorithm will use. We are ready to predict pitch types for our test set. We can use predict() method. Let’s try to predict target variable for test set’s 1st record."
   ]
  },
  {
   "cell_type": "code",
   "execution_count": 62,
   "metadata": {
    "collapsed": false
   },
   "outputs": [
    {
     "data": {
      "text/plain": [
       "array(['FF', 'FF', 'SL', 'FF', 'FF', 'FF', 'CH', 'CH', 'FF', 'FF', 'CH',\n",
       "       'FF', 'CH', 'FF', 'SL', 'CB', 'FF', 'FF', 'FF', 'SL', 'CH', 'SL',\n",
       "       'FF', 'FF', 'FF', 'FT', 'FF', 'CB', 'CH', 'FT', 'SL', 'SL', 'CB',\n",
       "       'FF', 'CH', 'FF', 'FF', 'CB', 'SL', 'SL', 'FF', 'FF', 'CB', 'FF',\n",
       "       'CH', 'CH', 'FF', 'FF', 'FF', 'FF', 'CH', 'FF', 'FF', 'CB', 'FF',\n",
       "       'CB', 'SL', 'CB', 'CH', 'FF', 'CB', 'CH', 'CB', 'FT', 'SL', 'CH',\n",
       "       'FF', 'FF', 'CH', 'FF', 'FF', 'FF', 'SL', 'FF', 'CH', 'SL', 'FF',\n",
       "       'FF', 'CH', 'FT', 'SL', 'FF', 'SL', 'CB', 'FF', 'CB', 'FF', 'CH',\n",
       "       'CH'], dtype=object)"
      ]
     },
     "execution_count": 62,
     "metadata": {},
     "output_type": "execute_result"
    }
   ],
   "source": [
    "y_pred = clf_gini.predict(X_test)\n",
    "y_pred"
   ]
  },
  {
   "cell_type": "markdown",
   "metadata": {},
   "source": [
    "Let's check the accuracy score of the descion tree using the accuray_score function."
   ]
  },
  {
   "cell_type": "code",
   "execution_count": 65,
   "metadata": {
    "collapsed": false
   },
   "outputs": [
    {
     "data": {
      "text/plain": [
       "77.528089887640448"
      ]
     },
     "execution_count": 65,
     "metadata": {},
     "output_type": "execute_result"
    }
   ],
   "source": [
    "accuracy_score(y_test,y_pred)*100"
   ]
  },
  {
   "cell_type": "markdown",
   "metadata": {},
   "source": [
    "That's not bad. We can use our descion tree to predict pitch types based on the speed, curve, and break.. Let's try one more time! Let's try a typical curveball and use the following numbers:\n",
    "\n",
    "Rel_Speed: 80\n",
    "\n",
    "Spin_Axis: 200\n",
    "\n",
    "Spin_Rate: 2500\n",
    "\n",
    "Induced_Vertical_Break: -7 \n",
    "\n",
    "Horizontal Break: 2.5\n",
    "\n",
    "The expected result should be a curveball (CB)!"
   ]
  },
  {
   "cell_type": "code",
   "execution_count": 69,
   "metadata": {
    "collapsed": false
   },
   "outputs": [
    {
     "name": "stderr",
     "output_type": "stream",
     "text": [
      "//anaconda/envs/si370/lib/python3.5/site-packages/sklearn/utils/validation.py:395: DeprecationWarning: Passing 1d arrays as data is deprecated in 0.17 and will raise ValueError in 0.19. Reshape your data either using X.reshape(-1, 1) if your data has a single feature or X.reshape(1, -1) if it contains a single sample.\n",
      "  DeprecationWarning)\n"
     ]
    },
    {
     "data": {
      "text/plain": [
       "array(['CB'], dtype=object)"
      ]
     },
     "execution_count": 69,
     "metadata": {},
     "output_type": "execute_result"
    }
   ],
   "source": [
    "clf_gini.predict([2.5,-7,2500,200,80])"
   ]
  },
  {
   "cell_type": "code",
   "execution_count": null,
   "metadata": {
    "collapsed": true
   },
   "outputs": [],
   "source": []
  }
 ],
 "metadata": {
  "kernelspec": {
   "display_name": "Python [si370]",
   "language": "python",
   "name": "Python [si370]"
  },
  "language_info": {
   "codemirror_mode": {
    "name": "ipython",
    "version": 3
   },
   "file_extension": ".py",
   "mimetype": "text/x-python",
   "name": "python",
   "nbconvert_exporter": "python",
   "pygments_lexer": "ipython3",
   "version": "3.5.2"
  }
 },
 "nbformat": 4,
 "nbformat_minor": 0
}
